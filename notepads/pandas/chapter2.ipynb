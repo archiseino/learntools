{
 "cells": [
  {
   "cell_type": "markdown",
   "metadata": {},
   "source": [
    "## Indexing, Selecting, Assigning\n",
    "Pro data scientist do this trick."
   ]
  },
  {
   "cell_type": "markdown",
   "metadata": {},
   "source": [
    "Just like an Dict / List operation in python, we can also do the same thing in Pandas."
   ]
  },
  {
   "cell_type": "markdown",
   "metadata": {},
   "source": [
    "### Native Accessor (How do access those cells)\n",
    "Assume if we have `dataFrame` variables `reviews`. We can look inside the columns with\n",
    "```python\n",
    "reviews[\"columns\"]\n",
    "```\n",
    "\n",
    "For accessing the item, you can put the index within.\n",
    "```python\n",
    "reviews[\"columns\"][0]\n",
    "```"
   ]
  },
  {
   "cell_type": "markdown",
   "metadata": {},
   "source": [
    "### Indexing in Pandas\n",
    "There are two ways of accessing index in pandas, such as `loc` and `iloc`\n",
    "\n",
    "#### Index-based locations (iloc)\n",
    "`iloc` works based on the numerical position in the data. \n",
    "```python\n",
    "reviews.iloc[0]\n",
    "```\n",
    "This will give the detail description of the item in index 0.\n",
    "\n",
    "We can use the `:` operator to select range of values, just like on the numpy and python does.\n",
    "```python\n",
    "reviews.iloc[:3, 0]\n",
    "```\n",
    "\n",
    "#### Label-based selection (loc)\n",
    "Second paradigm for selection is by `loc`. In this paradigm, it's the data index value not its position, which matters.\n",
    "```python\n",
    "reviews.loc[0, \"country\"]\n",
    "```\n",
    "\n",
    "#### Notes\n",
    "`iloc` is conceptually simpler than `loc` because it ignores the dataset's indices. When we use iloc we treat the dataset like a big matrix (a list of lists), one that we have to index into by position. loc, by contrast, uses the information in the indices to do its work. Since your dataset usually has meaningful indices, it's usually easier to do things using loc instead.`"
   ]
  },
  {
   "cell_type": "markdown",
   "metadata": {},
   "source": [
    "### Choosing Loc and Iloc\n",
    "iloc uses the Python stdlib indexing scheme, where the first element of the range is included and the last one excluded. So 0:10 will select entries 0,...,9. loc, meanwhile, indexes inclusively. So 0:10 will select entries 0,...,10.\n",
    "\n",
    "Why the change? Remember that loc can index any stdlib type: strings, for example. If we have a DataFrame with index values Apples, ..., Potatoes, ..., and we want to select \"all the alphabetical fruit choices between Apples and Potatoes\", then it's a lot more convenient to index df.loc['Apples':'Potatoes'] than it is to index something like df.loc['Apples', 'Potatoet'] (t coming after s in the alphabet)."
   ]
  },
  {
   "cell_type": "markdown",
   "metadata": {},
   "source": [
    "### Conditional Selection\n",
    "we've can doing further more with some conditional on some features.\n",
    "```python\n",
    "reviews.country == 'Italy'\n",
    "```\n",
    "The operation comparison will produced a Series of `True / False` boolean based on the features (\"Country\") of each records. This result can then be used inside the `loc` to select the relevant data:\n",
    "\n",
    "Also on the other hand, we can use the `&` to add conditional together.\n",
    "```python\n",
    "reviews.loc[(reviews.country == \"Italy\") & (reviews.points >= 90)]\n",
    "```\n",
    "\n",
    "We can also use the pipe `|` as a continuition from previous conditional. Such as in this example where we will filter data that is from italy and above average points.\n",
    "```python\n",
    "reviews.loc[(reviews.country == 'Italy') | (reviews.points >= 90)]\n",
    "```\n",
    "\n",
    "### Pandas built it conditional selectors\n",
    "```python\n",
    "## 1. isin -> to determine if data is in the list\n",
    "reviews.loc[reviews.country.isin(['Italy', 'France'])]\n",
    "\n",
    "## 2. isnull -> to determine if the data is NaN\n",
    "reviews.loc[reviews.price.notnull()]\n",
    "```\n",
    "\n",
    "\n"
   ]
  }
 ],
 "metadata": {
  "language_info": {
   "name": "python"
  }
 },
 "nbformat": 4,
 "nbformat_minor": 2
}

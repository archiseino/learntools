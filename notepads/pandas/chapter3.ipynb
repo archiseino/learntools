{
 "cells": [
  {
   "cell_type": "markdown",
   "metadata": {},
   "source": [
    "## Summary Functions and Maps\n",
    "Extract insights from the data.\n",
    "\n",
    "Back again assume if we have the dataFrame reviews\n",
    "```python\n",
    "reviews\n",
    "```\n",
    "\n",
    "We can use the `describe()` functions to plot the feature description in the dataset.\n",
    "```python\n",
    "reviews.points.describe()\n",
    "```\n",
    "\n",
    "### Maps\n",
    "A map is way to transforming the data into meaningful one.\n",
    "```python\n",
    "review_points_mean = reviews.points.mean() ## Functions Extraction\n",
    "reviews.points.map(lambda p: p - reviews_points_mean) ## Map value - the mean value\n",
    "```\n",
    "\n",
    "`map()` will returns a new `Series` where the values have been transformed by the function.\n",
    "\n",
    "### Apply\n",
    "`apply()` on the other hand if we want to transform the dataFrame by calling the custom method, rather than in lambda\n",
    "```python\n",
    "def remean_points(row):\n",
    "    row.points = row.points - review_points_mean\n",
    "    return row\n",
    "\n",
    "reviews.apply(remean_points, axis='columns')\n",
    "```\n"
   ]
  }
 ],
 "metadata": {
  "language_info": {
   "name": "python"
  }
 },
 "nbformat": 4,
 "nbformat_minor": 2
}

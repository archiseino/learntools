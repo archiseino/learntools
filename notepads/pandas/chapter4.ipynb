{
 "cells": [
  {
   "cell_type": "markdown",
   "metadata": {},
   "source": [
    "## Grouping and Sorting\n",
    "Scale up level of insight, the more complex the dataset, the more this matters.\n",
    "\n",
    "Maps allow us to transform data in a DataFrame or Series one value at a time for an entire column. However, often we want to group our data, and then do something specific to the group the data is in."
   ]
  },
  {
   "cell_type": "markdown",
   "metadata": {},
   "source": [
    "### Groupwise analysis\n",
    "We can group the data, and perform the visualization to enhance our level of insights, one example is using `counts()`\n",
    "```python\n",
    "reviews.groupby(\"points\").points.count()\n",
    "```\n",
    "\n",
    "`groupby()` will create a group of reviews which plot the same point values, then for each of these groups, we grabbed the `points()` column and counted how many times it appeared.\n",
    "\n",
    "Remember, the function pipeline is not limited by the `counts()`, we can even do further like\n",
    "```python\n",
    "reviews.groupby('winery').apply(lambda df: df.title.iloc[0])\n",
    "```\n"
   ]
  },
  {
   "cell_type": "markdown",
   "metadata": {},
   "source": [
    "Another one `groupby()` method worth mention is `agg()`, which lets you run a bunch diff functions on the DataFrame simultaneously.\n",
    "```python\n",
    "reviews.groupby(['country']).price.agg([len, min, max])\n",
    "```\n",
    "\n",
    "| Function Name | Description                          |\n",
    "|---------------|--------------------------------------|\n",
    "| `sum`         | Sum of values                        |\n",
    "| `mean`        | Mean of values                       |\n",
    "| `min`         | Minimum value                        |\n",
    "| `max`         | Maximum value                        |\n",
    "| `count`       | Number of non-null values            |\n",
    "| `std`         | Standard deviation of values         |\n",
    "| `var`         | Variance of values                   |\n",
    "| `median`      | Median of values                     |\n",
    "| `prod`        | Product of values                    |\n",
    "| `first`       | First value                          |\n",
    "| `last`        | Last value                           |\n",
    "| `nunique`     | Number of unique values              |\n",
    "| `mad`         | Mean absolute deviation              |\n",
    "| `sem`         | Standard error of the mean           |\n",
    "| `skew`        | Skewness of values                   |\n",
    "| `kurt`        | Kurtosis of values                   |\n",
    "| `quantile`    | Value at a given quantile            |\n",
    "| `cumsum`      | Cumulative sum                       |\n",
    "| `cumprod`     | Cumulative product                   |\n",
    "| `cummin`      | Cumulative minimum                   |\n",
    "| `cummax`      | Cumulative maximum                   |\n"
   ]
  },
  {
   "cell_type": "markdown",
   "metadata": {},
   "source": [
    "### Sorting\n",
    "We can perform sorting with two methods, `sort_values` and `sort_index`\n",
    "```python\n",
    "# reviews.sort_values(by=\"some features\")\n",
    "reviews.sort_values(by='len', ascending=False)\n",
    "\n",
    "# Sort index\n",
    "reviews.sort_index()\n",
    "```"
   ]
  }
 ],
 "metadata": {
  "language_info": {
   "name": "python"
  }
 },
 "nbformat": 4,
 "nbformat_minor": 2
}

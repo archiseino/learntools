{
 "cells": [
  {
   "cell_type": "markdown",
   "metadata": {},
   "source": [
    "## Renaming and Combining\n",
    "Data comes in from many sources. Help it all make sense together"
   ]
  },
  {
   "cell_type": "markdown",
   "metadata": {},
   "source": [
    "### Renaming\n",
    "The first method is `rename()` which allows you to change the index name and/or column names\n",
    "```python\n",
    "reviews.rename(columns={\"A\": \"B\"}) ## Change features A to B\n",
    "reviews.rename(index={0: 'firstEntry', 1: 'secondEntry'})\n",
    "```\n",
    "\n",
    "### Combining\n",
    "When performing operations on a dataset, we will sometimes need to combine different DataFrames and/or Series in non-trivial ways. Pandas has three core methods for doing this. In order of increasing complexity, these are `concat()`, `join()`, and `merge()`. Most of what `merge()` can do can also be done more simply with join(), so we will omit it and focus on the first two functions here.\n",
    "\n"
   ]
  }
 ],
 "metadata": {
  "language_info": {
   "name": "python"
  }
 },
 "nbformat": 4,
 "nbformat_minor": 2
}

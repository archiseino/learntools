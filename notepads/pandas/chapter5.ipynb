{
 "cells": [
  {
   "cell_type": "markdown",
   "metadata": {},
   "source": [
    "## Data Types and Missing Values\n",
    "\n",
    "Deal with the most common progress-blocking problems\n"
   ]
  },
  {
   "cell_type": "markdown",
   "metadata": {},
   "source": [
    "### Dtypes\n",
    "The data type for a column in a DataFrame / Series is known as `dtype`.\n",
    "\n",
    "You can use the dtype property to grab the type of a specific column. For instance, we can get the dtype of the price column in the reviews DataFrame:\n",
    "```python\n",
    "reviews.price.dtype\n",
    "```\n",
    "\n",
    "It's possible to convert a column of one type into another whenever is possible (the conversion is make sense) using `astype()`. \n",
    "```python\n",
    "reviews.points.astype(\"float64\")\n",
    "```\n",
    "\n",
    "### Missing Data\n",
    "Entries missing such as NaN (Not a Number). For technical reasons these NaN values are always of the float64 dtype.\n",
    "\n",
    "We can check the NaN data with `pd.isnull()`\n",
    "```python\n",
    "reviews[pd.isnull(reviews.country)]\n",
    "```\n",
    "\n",
    "Replacing the missing value is one step of making a model. Pandas give a way to do that with `fillna()` to replace each `NaN` values with something.\n",
    "```python\n",
    "reviews.price.fillna(\"Unknown\") # Fill the NaN price feature with unknown\n",
    "```\n"
   ]
  }
 ],
 "metadata": {
  "language_info": {
   "name": "python"
  }
 },
 "nbformat": 4,
 "nbformat_minor": 2
}

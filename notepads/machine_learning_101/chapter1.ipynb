{
 "cells": [
  {
   "cell_type": "markdown",
   "metadata": {},
   "source": [
    "## First ML Model"
   ]
  },
  {
   "cell_type": "markdown",
   "metadata": {},
   "source": [
    "There are steps to build ML models these days. \n",
    "1. Preparare the dataset\n",
    "\n",
    "    Choose the appropriate dataset and determine the features and the target variable for the ML model to work on. You can use the `DataFrame.head()` or `DataFrame.describe()` to look up on the dataset structure.\n",
    "\n",
    "2. Building the Model\n",
    "\n",
    "    For this case, we don't need to make a non-sense models from scratch. `scikit-learn` and `sklearn` libray is already given a code implementation to use when making model.\n",
    "\n",
    "3. Idioms of making Model\n",
    "\n",
    "    - Define: What type of model will it be? A decision tree? What Parameter of model type are specified too\n",
    "    - Fit: Capture patterns from provided data. \n",
    "    - Predict: Predict the target variabel with the model.\n",
    "    - Evaluate: Determine how acurate the model prediction are.\n",
    "    ```python\n",
    "    # Define model. Specify a number for random_state to ensure same results each run\n",
    "    melbourne_model = DecisionTreeRegressor(random_state=1)\n",
    "\n",
    "    # Fit model\n",
    "    melbourne_model.fit(X, y)\n",
    "    ```\n",
    "\n",
    "    "
   ]
  }
 ],
 "metadata": {
  "kernelspec": {
   "display_name": "Python 3 (ipykernel)",
   "language": "python",
   "name": "python3"
  }
 },
 "nbformat": 4,
 "nbformat_minor": 2
}

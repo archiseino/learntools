{
 "cells": [
  {
   "cell_type": "markdown",
   "metadata": {},
   "source": [
    "## Model Validation"
   ]
  },
  {
   "cell_type": "markdown",
   "metadata": {},
   "source": [
    "Congrats on your working model implementation. But, there are next step after this, which is the validation where we determine the accuracy of the model."
   ]
  },
  {
   "cell_type": "markdown",
   "metadata": {},
   "source": [
    "### Types of Validation\n",
    "Different ML model require different validation. For cases such as classification, the method of validation is by using Confusion Matrix and determine the some parameter like the F1 score, acccuracy and etc. In the other hand, models like regression use other way of metrics to evaluate the model quality. One example is Mean Absolute Error (MAE)."
   ]
  }
 ],
 "metadata": {
  "language_info": {
   "name": "python"
  }
 },
 "nbformat": 4,
 "nbformat_minor": 2
}

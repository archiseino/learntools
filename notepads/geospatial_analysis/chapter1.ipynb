{
 "cells": [
  {
   "cell_type": "markdown",
   "metadata": {},
   "source": [
    "## Your First Map\n",
    "Get started with plotting in GeoPandas.\n"
   ]
  },
  {
   "cell_type": "markdown",
   "metadata": {},
   "source": [
    "You can read the data using geopandas"
   ]
  },
  {
   "cell_type": "code",
   "execution_count": null,
   "metadata": {},
   "outputs": [],
   "source": [
    "import geopandas as gps"
   ]
  },
  {
   "cell_type": "markdown",
   "metadata": {},
   "source": [
    "There are many, many different geospatial file formats, such as `shapefile`, `GeoJSON`, `KML`, and `GPKG`. We won't discuss their differences in this micro-course, but it's important to mention that:\n",
    "\n",
    "- shapefile is the most common file type that you'll encounter, and\n",
    "- all of these file types can be quickly loaded with the `gpd.read_file()` function.\n",
    "\n",
    "The next code cell loads a shapefile containing information about forests, wilderness areas, and other lands under the care of the Department of Environmental Conservation in the state of New York.\n",
    "\n",
    "```python\n",
    "# Read in the data\n",
    "full_data = gpd.read_file(\"../input/geospatial-learn-course-data/DEC_lands/DEC_lands/DEC_lands.shp\")\n",
    "\n",
    "# View the first five rows of the data\n",
    "full_data.head()\n",
    "```\n"
   ]
  },
  {
   "cell_type": "markdown",
   "metadata": {},
   "source": [
    "### Create Your First Map\n",
    "We can quickly visualize the data with `plot()`\n",
    "```python\n",
    "wild_lands.plot()\n",
    "\n",
    "# Define a base map with county boundaries\n",
    "ax = counties.plot(figsize=(10,10), color='none', edgecolor='gainsboro', zorder=3)\n",
    "\n",
    "# Add wild lands, campsites, and foot trails to the base map\n",
    "wild_lands.plot(color='lightgreen', ax=ax)\n",
    "campsites.plot(color='maroon', markersize=2, ax=ax)\n",
    "trails.plot(color='black', markersize=1, ax=ax)\n",
    "```"
   ]
  }
 ],
 "metadata": {
  "language_info": {
   "name": "python"
  }
 },
 "nbformat": 4,
 "nbformat_minor": 2
}
